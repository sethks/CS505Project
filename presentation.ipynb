{
  "nbformat": 4,
  "nbformat_minor": 0,
  "metadata": {
    "colab": {
      "provenance": []
    },
    "kernelspec": {
      "name": "python3",
      "display_name": "Python 3"
    },
    "language_info": {
      "name": "python"
    }
  },
  "cells": [
    {
      "cell_type": "markdown",
      "source": [
        "# **Presentation**"
      ],
      "metadata": {
        "id": "jwjquspfp0Xc"
      }
    },
    {
      "cell_type": "markdown",
      "source": [
        "# *Spam Detection in SMS and Emails*\n",
        "\n",
        "Spam is unsolicited content that we receive in our digital inboxes, and it is a nuisance that can range from harmless advertisements to dangerous phishing attempts. Detecting and filtering spam is vital for maintaining the integrity and usability of digital communication channels.\n",
        "\n",
        "Sabeer and I have harnessed NLP and machine learning techniques to distinguish between spam and legitimate messages. NLP interprets and manipulates human language data, while machine learning uses this data to classify messages based on learned patterns.\n"
      ],
      "metadata": {
        "id": "lhn0m9xVsJX7"
      }
    },
    {
      "cell_type": "markdown",
      "source": [
        "# **Getting our data from CSVs**"
      ],
      "metadata": {
        "id": "nYzqjeHSvOYD"
      }
    },
    {
      "cell_type": "markdown",
      "source": [
        "First we get the data from text messages and emails are read and preprocessed, removing irrelevant characters and common words (stopwords) that offer little value in classification.\n",
        "\n",
        "\n",
        "\n",
        "```\n",
        "try:\n",
        "    # Reading the CSV file, ignore 3rd column onwards\n",
        "    data = pd.read_csv(\"/Users/sabeernarula/Desktop/CS505 Final Project/CS505Project-1/smsSpamChecking/spam.csv\", usecols=[0, 1], header=0, names=['label', 'message'])\n",
        "except pd.errors.ParserError as e:\n",
        "    print(f\"Error reading the CSV file: {e}\")\n",
        "\n",
        "# Preprocess Data\n",
        "def preprocess_text(text):\n",
        "    lemmatizer = WordNetLemmatizer()\n",
        "    words = nltk.word_tokenize(text.lower())\n",
        "    words = [lemmatizer.lemmatize(word) for word in words if word.isalpha() and word not in stopwords.words('english')]\n",
        "    return ' '.join(words)\n",
        "```\n",
        "\n"
      ],
      "metadata": {
        "id": "XM9AGKUBtvJW"
      }
    },
    {
      "cell_type": "markdown",
      "source": [
        "# **The Process we Follow**"
      ],
      "metadata": {
        "id": "t_CdWbhfvNR8"
      }
    },
    {
      "cell_type": "markdown",
      "source": [
        "\n",
        "Then we must use a function called CountVectorizer which converts text messages into a numerical format that our models can interpret—a process known as vectorization.\n",
        "```\n",
        "# Bag of Words extraction\n",
        "vectorizer = CountVectorizer()\n",
        "X = vectorizer.fit_transform(data['message'])\n",
        "y = data['label'].apply(lambda x: 1 if x == 'spam' else 0)\n",
        "```\n",
        "\n"
      ],
      "metadata": {
        "id": "rc1Hg6gRuXDo"
      }
    },
    {
      "cell_type": "markdown",
      "source": [
        "# **Pseudo-Code for Readability**"
      ],
      "metadata": {
        "id": "vs0TTRFFvMwp"
      }
    },
    {
      "cell_type": "markdown",
      "source": [
        "Then, we implement two models: Naive Bayes and Logistic Regression. Naive Bayes is akin to learning by counting and comparing, while Logistic Regression is like weighing the importance of different words\n",
        "\n",
        "\n",
        "\n",
        "```\n",
        "Training Models:\n",
        "\n",
        "1. Start with two models: Naive Bayes and Logistic Regression\n",
        "2. For each model:\n",
        "   a. Take the training data which includes:\n",
        "      - X_train: Features from messages (after vectorization)\n",
        "      - y_train: Labels indicating if a message is spam or not\n",
        "   b. Apply the fit method to the model with the training data\n",
        "   c. The model learns to associate features with spam or non-spam labels\n",
        "\n",
        "Example:\n",
        "FOR EACH model IN [Naive Bayes, Logistic Regression]\n",
        "    model.fit(X_train, y_train)\n",
        "    PRINT \"Model is trained and ready to classify messages\"\n",
        "END FOR\n",
        "\n",
        "```\n",
        "\n"
      ],
      "metadata": {
        "id": "ro3KdAEnup-y"
      }
    },
    {
      "cell_type": "markdown",
      "source": [
        "# **Results?**"
      ],
      "metadata": {
        "id": "WVU16Cyyw4Hi"
      }
    },
    {
      "cell_type": "markdown",
      "source": [
        "![Capture.PNG](data:image/png;base64,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)![Capture.PNG]"
      ],
      "metadata": {
        "id": "POrXcfzlvMXj"
      }
    },
    {
      "cell_type": "markdown",
      "source": [
        "We assess our models using accuracy, precision, recall, and F1-score, metrics that collectively gauge the performance of our spam filter. As seen in the image above, you can see a test run."
      ],
      "metadata": {
        "id": "xfk-PbiKvLr_"
      }
    },
    {
      "cell_type": "markdown",
      "source": [
        "# **The Looks**"
      ],
      "metadata": {
        "id": "fAlV7h4jw1IG"
      }
    },
    {
      "cell_type": "markdown",
      "source": [
        "Finally, Sabeer put together a nice little front-end to allow the user to input a SMS or Email. Using our models, we will try our best to detect whether or not the input is spam."
      ],
      "metadata": {
        "id": "PbHFboqsv2OY"
      }
    },
    {
      "cell_type": "markdown",
      "source": [
        "![Capture1.PNG](data:image/png;base64,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)"
      ],
      "metadata": {
        "id": "jXsimOCzv2g0"
      }
    },
    {
      "cell_type": "markdown",
      "source": [
        "# **Conclusion**"
      ],
      "metadata": {
        "id": "M6E2l8itwyVo"
      }
    },
    {
      "cell_type": "markdown",
      "source": [
        "Overall, our models achieve commendable accuracy in identifying spam. We believe the models perform robustly, with Naive Bayes excelling in simplicity and speed, while Logistic Regression provides nuanced decision-making. In the end, they effectively automate spam detection, albeit with room for improvement.\n",
        "\n",
        "As for future work, I could definitely see where exploring deep learning for greater accuracy and considering real-time detection systems for instant spam filtering could be an even bigger help with the track we are on."
      ],
      "metadata": {
        "id": "zAhbB7lQwPQk"
      }
    }
  ]
}