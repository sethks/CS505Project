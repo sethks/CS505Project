{
  "nbformat": 4,
  "nbformat_minor": 0,
  "metadata": {
    "colab": {
      "provenance": []
    },
    "kernelspec": {
      "name": "python3",
      "display_name": "Python 3"
    },
    "language_info": {
      "name": "python"
    }
  },
  "cells": [
    {
      "cell_type": "markdown",
      "source": [
        "Contributors: Sabeer Narula and Seth Serrano\n",
        "\n",
        "Description of Project: We are looking to create a create an accurate and effective spam detection system in order to look through both SMS text messages and Emails to ascertain if the message is spam and can be filtered out of the user's inbox. Spam messages have become more sophisiticated and aim to bypass modern spam filters, and we want to target all sorts of spam in our system. This is applicable to many people across the world and serves to improve quality of life, reduce risk of financial scams, and prevention of malware.\n",
        "\n",
        "We want to use 4+ datasets - one for each normal emails / sms, and one for each spam emails / sms. We want to incorporat various NLP tchniques such as TF-IDF, word embeddings, and logistic regressions / neural networks for characterization anad learning. We will use metrics such as accuracy, precision, recall, and F1 in order to best decide if the message is spam.\n",
        "\n",
        "A lot of these topics were touched upon in the lectures and in class, and we want to use a lot of similar approches from the homework to apply here.\n",
        "\n",
        "Resources:\n",
        "\n",
        "1. Baseline for coding a simple one in python: https://blog.logrocket.com/email-spam-detector-python-machine-learning/\n",
        "\n",
        "2. A deeper overview of spam detection using NLP methods: https://towardsdatascience.com/how-to-identify-spam-using-natural-language-processing-nlp-af91f4170113\n",
        "\n",
        "3. Research paper on spam detection in email and text: https://www.ncbi.nlm.nih.gov/pmc/articles/PMC8802784/\n",
        "\n",
        "4. Another paper, focused specifically on emails: https://papers.ssrn.com/sol3/papers.cfm?abstract_id=4145123\n",
        "\n",
        "5. Paper focusing on Naive Bayes algorithm in spam detection: https://citeseerx.ist.psu.edu/doc_view/pid/8bd0934b366b539ec95e683ae39f8abb29ccc757\n",
        "\n",
        "Project Plan:\n",
        "\n",
        "Our project aims to detect spam messages of all types that may be sent to users through text or email, and filter them out immediately, while minimizing risk of false positives (filtering out non-spam).\n",
        "\n",
        "Some sources for data we are looking at using:\n",
        "\n",
        "1. Singaporean student text messages corpus (60,000 messages):\n",
        "https://scholarbank.nus.edu.sg/handle/10635/137343\n",
        "\n",
        "while from singapore, vast majority in English\n",
        "\n",
        "2. Mobile text dataset: https://digitalcommons.mtu.edu/mobiletext/1/\n",
        "\n",
        "3. Spam sms dataset: https://www.kaggle.com/datasets/uciml/sms-spam-collection-dataset\n",
        "\n",
        "4. Text message corpus: https://web.archive.org/web/20130921043042/http://cybersecurity.cit.purduecal.edu/content/tmcorpus.html\n",
        "\n",
        "5. Enron email dataset: https://www.kaggle.com/datasets/wcukierski/enron-email-dataset (business focused)\n",
        "\n",
        "6. Spam email dataset: https://www.kaggle.com/code/balaka18/email-spam-classification\n",
        "\n",
        "7. British Columbia Conversation Corpus: https://nlp.cs.ubc.ca/bc3.html\n",
        "\n",
        "Data Wrangling: Making sure that the data from each dataset has similar information across each one, and all can be using and are applicable. We need to ensure there isn't overfitting as some datasets are far larger than others.\n",
        "\n",
        "Methods: TF-IDF for extraction, logistic regression / methods from previous homeworks for modelling. Naive Bayes, NN, or SVM for classification algorithms.  \n",
        "\n",
        "Pytorch on an SCC or possible on local PCs.\n",
        "\n",
        "Evaluating models based on accuracy, precision, recall, and F1 score. Using a confusion matrix to understand model performance in differentiating spam and non-spam.\n",
        "\n",
        "Work will be divided beetwen the two members. I may focus more on model training and development, while Seth may work on data preprocessing, model evaluation, and documntation, but it remains to be fully decided.\n",
        "\n",
        "\n"
      ],
      "metadata": {
        "id": "9cP8iEpf_4tU"
      }
    }
  ]
}